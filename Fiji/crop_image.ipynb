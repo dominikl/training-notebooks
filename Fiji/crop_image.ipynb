{
 "cells": [
  {
   "cell_type": "markdown",
   "metadata": {},
   "source": [
    "# Crop OMERO Image using Fiji\n",
    "\n",
    "\n",
    "This notebook shows how to crop an OMERO image using the crop functionality available in [Fiji](https://imagej.net/Fiji). Fiji has been installed with few other plugins. For more information, check the Dockerfile."
   ]
  },
  {
   "cell_type": "markdown",
   "metadata": {},
   "source": [
    "First we had Fiji and the plugins to the classpath."
   ]
  },
  {
   "cell_type": "code",
   "execution_count": 2,
   "metadata": {},
   "outputs": [],
   "source": [
    "//Add dependencies to the classpath\n",
    "%classpath add jar /opt/java-apps/Fiji.app/jars/*\n",
    "%classpath add jar /opt/java-apps/Fiji.app/plugins/*"
   ]
  },
  {
   "cell_type": "markdown",
   "metadata": {},
   "source": [
    "### Description\n",
    "\n",
    "The following section shows:\n",
    " * how to connect to OMERO\n",
    " * how to open an OMERO image using Bio-Formats\n",
    " * how to crop an image using Fiji\n",
    " * how to save the generated image as OME-TIFF\n",
    " * how to import the created OME-TIFF to OMERO"
   ]
  },
  {
   "cell_type": "code",
   "execution_count": 3,
   "metadata": {},
   "outputs": [],
   "source": [
    "g = new EasyForm(\"Enter credentials and continue to the next cell. Do not re-run this cell\")\n",
    "g.addTextField(\"Server\").onInit({g['Server'] = \"workshop.openmicroscopy.org\"})\n",
    "g.addTextField(\"UserName\")\n",
    "g.addPasswordField(\"Password\")\n",
    "g\n",
    "\n",
    "\n"
   ]
  },
  {
   "cell_type": "markdown",
   "metadata": {},
   "source": [
    "### Connect to OMERO"
   ]
  },
  {
   "cell_type": "code",
   "execution_count": 4,
   "metadata": {},
   "outputs": [
    {
     "name": "stdout",
     "output_type": "stream",
     "text": [
      "connecting...\n",
      "connected...\n"
     ]
    },
    {
     "data": {
      "text/plain": [
       "null"
      ]
     },
     "execution_count": 4,
     "metadata": {},
     "output_type": "execute_result"
    }
   ],
   "source": [
    "import omero.gateway.Gateway\n",
    "import omero.gateway.LoginCredentials\n",
    "import omero.log.SimpleLogger\n",
    "\n",
    "// Method to connect to OMERO\n",
    "def connect_to_omero() {\n",
    "    \"Connect to OMERO\"\n",
    "\n",
    "    credentials = new LoginCredentials()\n",
    "    credentials.getServer().setHostname(g['Server'])\n",
    "    credentials.getServer().setPort(4064)\n",
    "    credentials.getUser().setUsername(g['UserName'].trim())\n",
    "    credentials.getUser().setPassword(g['Password'].trim())\n",
    "    simpleLogger = new SimpleLogger()\n",
    "    gateway = new Gateway(simpleLogger)\n",
    "    gateway.connect(credentials)\n",
    "    return gateway\n",
    "\n",
    "}\n",
    "\n",
    "// Connect to OMERO\n",
    "println \"connecting...\"\n",
    "gateway = connect_to_omero()\n",
    "println \"connected...\"\n"
   ]
  },
  {
   "cell_type": "code",
   "execution_count": 5,
   "metadata": {
    "scrolled": true
   },
   "outputs": [],
   "source": [
    "//Move to the next cell after entering a value\n",
    "ga = new EasyForm(\"Select the Image to analyze\")\n",
    "ga.addTextField(\"ImageID\")\n",
    "ga"
   ]
  },
  {
   "cell_type": "markdown",
   "metadata": {},
   "source": [
    "### Crop the image"
   ]
  },
  {
   "cell_type": "code",
   "execution_count": 7,
   "metadata": {},
   "outputs": [
    {
     "name": "stdout",
     "output_type": "stream",
     "text": [
      "opening Image...\n",
      "cropping...\n",
      "/tmp/CFPNEAT01_R3D.dv15899625826759578708.ome.tiff\n",
      "importing...\n"
     ]
    },
    {
     "name": "stderr",
     "output_type": "stream",
     "text": [
      "Oct 03, 2019 12:37:46 PM java.util.prefs.FileSystemPreferences$1 run\n",
      "INFO: Created user preferences directory.\n"
     ]
    },
    {
     "name": "stdout",
     "output_type": "stream",
     "text": [
      "Image:93258\n"
     ]
    },
    {
     "name": "stderr",
     "output_type": "stream",
     "text": [
      "Other imported objects:\n",
      "Fileset:67401\n"
     ]
    },
    {
     "name": "stdout",
     "output_type": "stream",
     "text": [
      "imported\n",
      "Done\n"
     ]
    },
    {
     "data": {
      "text/plain": [
       "true"
      ]
     },
     "execution_count": 7,
     "metadata": {},
     "output_type": "execute_result"
    }
   ],
   "source": [
    "//Java imports\n",
    "import java.io.File\n",
    "import java.lang.reflect.Array\n",
    "\n",
    "import omero.gateway.SecurityContext\n",
    "import omero.gateway.facility.BrowseFacility\n",
    "import omero.gateway.facility.DataManagerFacility\n",
    "import omero.gateway.model.DatasetData\n",
    "\n",
    "import ome.formats.importer.ImportConfig\n",
    "import ome.formats.importer.OMEROWrapper\n",
    "import ome.formats.importer.ImportLibrary\n",
    "import ome.formats.importer.ImportCandidates\n",
    "import ome.formats.importer.cli.ErrorHandler\n",
    "import ome.formats.importer.cli.LoggingImportMonitor\n",
    "\n",
    "import loci.formats.in.DefaultMetadataOptions\n",
    "import loci.formats.in.MetadataLevel\n",
    "\n",
    "import ij.IJ\n",
    "//Connection information\n",
    "HOST = g['Server']\n",
    "USERNAME = g['UserName']\n",
    "PASSWORD = g['Password']\n",
    "\n",
    "PORT = 4064\n",
    "group_id = \"-1\"\n",
    "\n",
    "//Image to analyze\n",
    "image_id = ga['ImageID'].toLong()\n",
    "\n",
    "//Find the dataset matching the specified ID\n",
    "def find_dataset(gateway, dataset_id) {\n",
    "    \"Load the Dataset\"\n",
    "    browse = gateway.getFacility(BrowseFacility)\n",
    "    user = gateway.getLoggedInUser()\n",
    "    ctx = new SecurityContext(user.getGroupId())\n",
    "    return browse.findIObject(ctx, \"omero.model.Dataset\", dataset_id)\n",
    "}\n",
    "\n",
    "//Function to Open an OMERO image using Bio-Formats\n",
    "def open_image_plus(HOST, USERNAME, PASSWORD, PORT, group_id, image_id) {\n",
    "    \"Open the image using the Bio-Formats Importer\"\n",
    "\n",
    "    StringBuilder options = new StringBuilder()\n",
    "    options.append(\"location=[OMERO] open=[omero:server=\")\n",
    "    options.append(g['Server'])\n",
    "    options.append(\"\\nuser=\")\n",
    "    options.append(g['UserName'].trim())\n",
    "    options.append(\"\\nport=\")\n",
    "    options.append(4064)\n",
    "    options.append(\"\\npass=\")\n",
    "    options.append(g['Password'].trim())\n",
    "    options.append(\"\\ngroupID=\")\n",
    "    options.append(group_id)\n",
    "    options.append(\"\\niid=\")\n",
    "    options.append(image_id)\n",
    "    options.append(\"] \")\n",
    "    options.append(\"windowless=true view=Hyperstack \")\n",
    "    IJ.runPlugIn(\"loci.plugins.LociImporter\", options.toString())\n",
    "}\n",
    "\n",
    "//Upload the generated image\n",
    "def upload_image(paths, gateway, id) {\n",
    "    \"Upload an image to OMERO\"\n",
    "\n",
    "    user = gateway.getLoggedInUser()\n",
    "    sessionKey = gateway.getSessionId(user)\n",
    "\n",
    "    config = new ImportConfig()\n",
    "    config.debug.set('false')\n",
    "    config.hostname.set(HOST)\n",
    "    config.sessionKey.set(sessionKey)\n",
    "    dataset = find_dataset(gateway, id)\n",
    "\n",
    "    store = config.createStore()\n",
    "    reader = new OMEROWrapper(config)\n",
    "\n",
    "    library = new ImportLibrary(store, reader)\n",
    "    error_handler = new ErrorHandler(config)\n",
    "\n",
    "    library.addObserver(new LoggingImportMonitor())\n",
    "    candidates = new ImportCandidates(reader, paths, error_handler)\n",
    "    containers = candidates.getContainers()\n",
    "    containers.each() { c ->\n",
    "        c.setTarget(dataset)\n",
    "    }\n",
    "    reader.setMetadataOptions(new DefaultMetadataOptions(MetadataLevel.ALL))\n",
    "    return library.importCandidates(config, candidates)\n",
    "}\n",
    "\n",
    "\n",
    "println \"opening Image...\"\n",
    "// Open the Image using Bio-Formats\n",
    "open_image_plus(HOST, USERNAME, PASSWORD, PORT, group_id, String.valueOf(image_id))\n",
    "\n",
    "// Crop the image\n",
    "println \"cropping...\"\n",
    "IJ.makeRectangle(0, 0, 200, 200)\n",
    "IJ.run(\"Crop\")\n",
    "\n",
    "// Save modified image as OME-TIFF using Bio-Formats Exporter\n",
    "imp = IJ.getImage()\n",
    "name = imp.getTitle().replaceAll(\"\\\\s\",\"\")\n",
    "file = File.createTempFile(name, \".ome.tiff\")\n",
    "path_to_file = file.getAbsolutePath()\n",
    "println  path_to_file\n",
    "options = \"outfile=\" + path_to_file + \" export compression=Uncompressed windowless=true\"\n",
    "IJ.runPlugIn(\"loci.plugins.LociExporter\", options.toString())\n",
    "imp.changes = false\n",
    "imp.close()\n",
    "\n",
    "// Create a Dataset\n",
    "d = new DatasetData()\n",
    "d.setName(\"Cropped Image\")\n",
    "dm = gateway.getFacility(DataManagerFacility)\n",
    "user = gateway.getLoggedInUser()\n",
    "ctx = new SecurityContext(user.getGroupId())\n",
    "d = dm.createDataset(ctx, d, null)\n",
    "\n",
    "// Import the generated OME-TIFF to OMERO\n",
    "println \"importing...\"\n",
    "str2d = new String[1]\n",
    "str2d[0] = path_to_file\n",
    "success = upload_image(str2d, gateway, d.getId())\n",
    "println \"imported\"\n",
    "\n",
    "// Close the connection\n",
    "gateway.disconnect()\n",
    "println \"Done\"\n",
    "// delete the local OME-TIFF image\n",
    "file.delete()\n"
   ]
  },
  {
   "cell_type": "code",
   "execution_count": null,
   "metadata": {},
   "outputs": [],
   "source": []
  }
 ],
 "metadata": {
  "kernelspec": {
   "display_name": "Groovy",
   "language": "groovy",
   "name": "groovy"
  },
  "language_info": {
   "codemirror_mode": "groovy",
   "file_extension": ".groovy",
   "mimetype": "",
   "name": "Groovy",
   "nbconverter_exporter": "",
   "version": "2.5.6"
  },
  "toc": {
   "base_numbering": 1,
   "nav_menu": {},
   "number_sections": false,
   "sideBar": false,
   "skip_h1_title": false,
   "title_cell": "Table of Contents",
   "title_sidebar": "Contents",
   "toc_cell": false,
   "toc_position": {},
   "toc_section_display": false,
   "toc_window_display": false
  }
 },
 "nbformat": 4,
 "nbformat_minor": 2
}
